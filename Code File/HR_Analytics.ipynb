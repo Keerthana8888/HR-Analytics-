{
  "nbformat": 4,
  "nbformat_minor": 0,
  "metadata": {
    "colab": {
      "private_outputs": true,
      "provenance": [],
      "authorship_tag": "ABX9TyM0i4/6D5KtL/KYALkB75tJ",
      "include_colab_link": true
    },
    "kernelspec": {
      "name": "python3",
      "display_name": "Python 3"
    },
    "language_info": {
      "name": "python"
    }
  },
  "cells": [
    {
      "cell_type": "markdown",
      "metadata": {
        "id": "view-in-github",
        "colab_type": "text"
      },
      "source": [
        "<a href=\"https://colab.research.google.com/github/Keerthana8888/HR-Analytics-/blob/main/Code%20File/HR_Analytics.ipynb\" target=\"_parent\"><img src=\"https://colab.research.google.com/assets/colab-badge.svg\" alt=\"Open In Colab\"/></a>"
      ]
    },
    {
      "cell_type": "markdown",
      "source": [
        "# Load Libraries And Datasets"
      ],
      "metadata": {
        "id": "hZ7KY7tQYnJ1"
      }
    },
    {
      "cell_type": "code",
      "execution_count": null,
      "metadata": {
        "id": "Mk76YPwyX-V5"
      },
      "outputs": [],
      "source": [
        "#Standard Libraries\n",
        "import pandas as pd\n",
        "import numpy as np\n",
        "import matplotlib.pyplot as plt\n",
        "import seaborn as sns\n",
        "# Models Selection\n",
        "from sklearn import preprocessing\n",
        "from sklearn.preprocessing import StandardScaler\n",
        "from sklearn.model_selection import train_test_split,RandomizedSearchCV\n",
        "from sklearn.linear_model import LogisticRegression\n",
        "from sklearn.preprocessing import LabelEncoder\n",
        "from sklearn.tree import DecisionTreeClassifier\n",
        "from sklearn.tree import plot_tree\n",
        "from sklearn.ensemble import RandomForestClassifier , AdaBoostClassifier , GradientBoostingClassifier\n",
        "from sklearn.neighbors import KNeighborsClassifier\n",
        "from xgboost import XGBClassifier\n",
        "from sklearn.svm import SVC\n",
        "from sklearn.naive_bayes import GaussianNB\n",
        "from imblearn.over_sampling import SMOTE\n",
        "from scipy.stats import chi2_contingency\n",
        "# Evaluators\n",
        "from sklearn.metrics import accuracy_score , classification_report , confusion_matrix"
      ]
    },
    {
      "cell_type": "code",
      "source": [
        "train = pd.read_csv(\"/content/train_LZdllcl (2) (1).csv\")\n",
        "test  = pd.read_csv(\"/content/test_2umaH9m (2).csv\")"
      ],
      "metadata": {
        "id": "Mk8boDR3YktT"
      },
      "execution_count": null,
      "outputs": []
    },
    {
      "cell_type": "code",
      "source": [
        "train.info()"
      ],
      "metadata": {
        "id": "KJOuHy9TaBFd"
      },
      "execution_count": null,
      "outputs": []
    },
    {
      "cell_type": "code",
      "source": [
        "test.info()"
      ],
      "metadata": {
        "id": "oZvKgnnxaETP"
      },
      "execution_count": null,
      "outputs": []
    },
    {
      "cell_type": "markdown",
      "source": [
        "# Exploratory Data Analysis"
      ],
      "metadata": {
        "id": "-LvYMyHWnLJa"
      }
    },
    {
      "cell_type": "markdown",
      "source": [
        "## Uni-Varient"
      ],
      "metadata": {
        "id": "Ok1qc_Enagdg"
      }
    },
    {
      "cell_type": "code",
      "source": [
        "train.describe()"
      ],
      "metadata": {
        "id": "rFnAHtjOaRq_"
      },
      "execution_count": null,
      "outputs": []
    },
    {
      "cell_type": "code",
      "source": [
        "for i in train.columns:\n",
        "  if i in ['no_of_trainings','age','previous_year_rating','length_of_service','avg_training_score']:\n",
        "    sns.displot(train[i],kde=True)\n",
        "  else:\n",
        "    continue"
      ],
      "metadata": {
        "id": "RCXw9H8baz-L"
      },
      "execution_count": null,
      "outputs": []
    },
    {
      "cell_type": "code",
      "source": [
        "columns_to_plot = ['department','region','education','gender','recruitment_chanel','KPIs_met >80%','awards_won?','is_promoted']"
      ],
      "metadata": {
        "id": "yHzLK8MDfLcH"
      },
      "execution_count": null,
      "outputs": []
    },
    {
      "cell_type": "code",
      "source": [
        "train['is_promoted'].value_counts()"
      ],
      "metadata": {
        "id": "rRsXdO1hfjgh"
      },
      "execution_count": null,
      "outputs": []
    },
    {
      "cell_type": "code",
      "source": [
        "train['department'].value_counts().plot(kind='bar')"
      ],
      "metadata": {
        "id": "1Gw3Ly13frFS"
      },
      "execution_count": null,
      "outputs": []
    },
    {
      "cell_type": "markdown",
      "source": [
        "## Bi-Varient"
      ],
      "metadata": {
        "id": "m0yKzj2MnG13"
      }
    },
    {
      "cell_type": "code",
      "source": [
        "categ_columns = train.select_dtypes(include=['object'])\n",
        "categ_columns.columns"
      ],
      "metadata": {
        "id": "NUMfmoyk4nq-"
      },
      "execution_count": null,
      "outputs": []
    },
    {
      "cell_type": "markdown",
      "source": [
        "## Chi Square"
      ],
      "metadata": {
        "id": "X1bNL7LTCxrR"
      }
    },
    {
      "cell_type": "code",
      "source": [
        "def chi2_sq_test(var1,var2):\n",
        "  table=pd.crosstab(var1,var2)\n",
        "  _,p,_,_=chi2_contingency(table)\n",
        "  if p<=0.05:\n",
        "    print('Accept the Alternate Hypothesis',round(p,2))\n",
        "  else:\n",
        "    print('Accept the Null Hypothesis',round(p,2))\n",
        "  return table"
      ],
      "metadata": {
        "id": "iJhG8cpdC49t"
      },
      "execution_count": null,
      "outputs": []
    },
    {
      "cell_type": "code",
      "source": [
        "chi2_sq_test(train['department'],train['is_promoted'])"
      ],
      "metadata": {
        "id": "azJYjNw_C9u7"
      },
      "execution_count": null,
      "outputs": []
    },
    {
      "cell_type": "code",
      "source": [
        "chi2_sq_test(train['region'],train['is_promoted'])"
      ],
      "metadata": {
        "id": "W8AxnzVbDJ9c"
      },
      "execution_count": null,
      "outputs": []
    },
    {
      "cell_type": "code",
      "source": [
        "chi2_sq_test(train['education'],train['is_promoted'])"
      ],
      "metadata": {
        "id": "fBp8DD9ZDcLj"
      },
      "execution_count": null,
      "outputs": []
    },
    {
      "cell_type": "code",
      "source": [
        "chi2_sq_test(train['gender'],train['is_promoted'])"
      ],
      "metadata": {
        "id": "QfvaH8--Denl"
      },
      "execution_count": null,
      "outputs": []
    },
    {
      "cell_type": "code",
      "source": [
        "chi2_sq_test(train['recruitment_channel'],train['is_promoted'])"
      ],
      "metadata": {
        "id": "txcJrJroDiZx"
      },
      "execution_count": null,
      "outputs": []
    },
    {
      "cell_type": "markdown",
      "source": [
        "# Data Preparation"
      ],
      "metadata": {
        "id": "HwtMdgiIgvYj"
      }
    },
    {
      "cell_type": "code",
      "source": [
        "train['education'].mode([0])"
      ],
      "metadata": {
        "id": "rfwjCrIlgCEr"
      },
      "execution_count": null,
      "outputs": []
    },
    {
      "cell_type": "code",
      "source": [
        "train['previous_year_rating'].value_counts().sort_values().plot(kind='bar')"
      ],
      "metadata": {
        "id": "x02fuBRXhbzj"
      },
      "execution_count": null,
      "outputs": []
    },
    {
      "cell_type": "code",
      "source": [
        "#Missing values\n",
        "train['education'] = np.where(train['education'].isna(), train['education'].mode(dropna=True)[0], train['education'])\n",
        "train['previous_year_rating'] = np.where(train['previous_year_rating'].isna(), train['previous_year_rating'].median(skipna=True), train['previous_year_rating'])"
      ],
      "metadata": {
        "id": "8nZ0LViMg-3A"
      },
      "execution_count": null,
      "outputs": []
    },
    {
      "cell_type": "code",
      "source": [
        "train.info()"
      ],
      "metadata": {
        "id": "yYFcRHuhi1a6"
      },
      "execution_count": null,
      "outputs": []
    },
    {
      "cell_type": "code",
      "source": [
        "train['previous_year_rating'] = train['previous_year_rating'].astype('int')"
      ],
      "metadata": {
        "id": "r-U03p9-i_gq"
      },
      "execution_count": null,
      "outputs": []
    },
    {
      "cell_type": "markdown",
      "source": [
        "## Encoding"
      ],
      "metadata": {
        "id": "RM7sQQMTjkFj"
      }
    },
    {
      "cell_type": "code",
      "source": [
        "train_enc = pd.get_dummies(train)"
      ],
      "metadata": {
        "id": "vc_2-m6djMme"
      },
      "execution_count": null,
      "outputs": []
    },
    {
      "cell_type": "code",
      "source": [
        "train_enc.drop(['employee_id'], axis=1, inplace=True)"
      ],
      "metadata": {
        "id": "ppAdIXNmjzYZ"
      },
      "execution_count": null,
      "outputs": []
    },
    {
      "cell_type": "code",
      "source": [
        "train_enc.info()"
      ],
      "metadata": {
        "id": "YyxLX8gZjtcb"
      },
      "execution_count": null,
      "outputs": []
    },
    {
      "cell_type": "markdown",
      "source": [
        "# Divide Data into X and Y"
      ],
      "metadata": {
        "id": "smFKgDktko18"
      }
    },
    {
      "cell_type": "code",
      "source": [
        "y = train['is_promoted']\n",
        "x = train_enc"
      ],
      "metadata": {
        "id": "F7ipQ-5ZkNqu"
      },
      "execution_count": null,
      "outputs": []
    },
    {
      "cell_type": "code",
      "source": [
        "oversample = SMOTE()\n",
        "x, y = oversample.fit_resample(x, y)"
      ],
      "metadata": {
        "id": "jOXcvgeImT3M"
      },
      "execution_count": null,
      "outputs": []
    },
    {
      "cell_type": "code",
      "source": [
        "print(x.shape)\n",
        "print(y.shape)"
      ],
      "metadata": {
        "id": "hsu4B3Himxyj"
      },
      "execution_count": null,
      "outputs": []
    },
    {
      "cell_type": "code",
      "source": [
        "y.value_counts().plot(kind='bar')"
      ],
      "metadata": {
        "id": "U-OnGOGom4Hq"
      },
      "execution_count": null,
      "outputs": []
    },
    {
      "cell_type": "markdown",
      "source": [
        "**Train Test Split**"
      ],
      "metadata": {
        "id": "k07V1us2Euv3"
      }
    },
    {
      "cell_type": "code",
      "source": [
        "x_train, x_test, y_train, y_test = train_test_split(x,y,test_size=0.2, random_state=123)"
      ],
      "metadata": {
        "id": "uwxs1A75uomA"
      },
      "execution_count": null,
      "outputs": []
    },
    {
      "cell_type": "code",
      "source": [
        "x_train.drop(['is_promoted'], axis = 1, inplace = True)\n",
        "x_test.drop(['is_promoted'], axis = 1, inplace = True)"
      ],
      "metadata": {
        "id": "Bl9ufIX2LXU_"
      },
      "execution_count": null,
      "outputs": []
    },
    {
      "cell_type": "code",
      "source": [
        "print(x_train.shape)\n",
        "print(x_test.shape)\n",
        "print(y_train.shape)\n",
        "print(y_test.shape)"
      ],
      "metadata": {
        "id": "nwKrJ3OMLZ32"
      },
      "execution_count": null,
      "outputs": []
    },
    {
      "cell_type": "markdown",
      "source": [
        "# Multi-Varient"
      ],
      "metadata": {
        "id": "jY14W21KuryM"
      }
    },
    {
      "cell_type": "markdown",
      "source": [
        "## Logistic Regression"
      ],
      "metadata": {
        "id": "w0yaZg_dvAzj"
      }
    },
    {
      "cell_type": "code",
      "source": [
        "lr = LogisticRegression()\n",
        "lr.fit(x_train,y_train)"
      ],
      "metadata": {
        "id": "Ym78X8Q8vm3p"
      },
      "execution_count": null,
      "outputs": []
    },
    {
      "cell_type": "code",
      "source": [
        "y_hat_train_lr = lr.predict(x_train)\n",
        "y_hat_test_lr = lr.predict(x_test)"
      ],
      "metadata": {
        "id": "sBlgbsHIEPRX"
      },
      "execution_count": null,
      "outputs": []
    },
    {
      "cell_type": "code",
      "source": [
        "def model_eval(actual, predicted):\n",
        "  conf_matrix = confusion_matrix(actual,predicted)\n",
        "  acc_score = accuracy_score(actual, predicted)\n",
        "  clas_rep = classification_report(actual, predicted)\n",
        "  print('The Accuracy of the model is: ', round(acc_score,2))\n",
        "  print(conf_matrix)\n",
        "  print(clas_rep)"
      ],
      "metadata": {
        "id": "fpbWvAAp7dGg"
      },
      "execution_count": null,
      "outputs": []
    },
    {
      "cell_type": "code",
      "source": [
        "model_eval(y_train, y_hat_train_lr)"
      ],
      "metadata": {
        "id": "FNqHLpi1wANl"
      },
      "execution_count": null,
      "outputs": []
    },
    {
      "cell_type": "code",
      "source": [
        "model_eval(y_test, y_hat_test_lr)"
      ],
      "metadata": {
        "id": "3uh7EFyrwCSy"
      },
      "execution_count": null,
      "outputs": []
    },
    {
      "cell_type": "markdown",
      "source": [
        "## Decision Tree"
      ],
      "metadata": {
        "id": "ULZ2fqxZwJrC"
      }
    },
    {
      "cell_type": "code",
      "source": [
        "dtree = DecisionTreeClassifier()\n",
        "dtree.fit(x_train,y_train)"
      ],
      "metadata": {
        "id": "uMCfP5KfwFGs"
      },
      "execution_count": null,
      "outputs": []
    },
    {
      "cell_type": "code",
      "source": [
        "y_hat_train_dtree=dtree.predict(x_train)\n",
        "y_hat_test_dtree=dtree.predict(x_test)"
      ],
      "metadata": {
        "id": "Kle5L2HxwW7E"
      },
      "execution_count": null,
      "outputs": []
    },
    {
      "cell_type": "code",
      "source": [
        "model_eval(y_train,y_hat_train_dtree)"
      ],
      "metadata": {
        "id": "IZ_90rWjwmZQ"
      },
      "execution_count": null,
      "outputs": []
    },
    {
      "cell_type": "code",
      "source": [
        "model_eval(y_train,y_hat_train_dtree)"
      ],
      "metadata": {
        "id": "bLCwdfz4wzUJ"
      },
      "execution_count": null,
      "outputs": []
    },
    {
      "cell_type": "code",
      "source": [
        "plt.figure(figsize=(15,10))\n",
        "clf=DecisionTreeClassifier(max_depth=4)\n",
        "clf.fit(x_train, y_train)\n",
        "plot_tree(clf, filled=True)\n",
        "plt.title(\"Decision tree trained HR Analytics Navie Bayes\")\n",
        "plt.show()"
      ],
      "metadata": {
        "id": "wTiGJeVdw9b_"
      },
      "execution_count": null,
      "outputs": []
    },
    {
      "cell_type": "markdown",
      "source": [
        "## Random Forest"
      ],
      "metadata": {
        "id": "ywGpSDH673J-"
      }
    },
    {
      "cell_type": "code",
      "source": [
        "rf=RandomForestClassifier()\n",
        "rf.fit(x_train, y_train)"
      ],
      "metadata": {
        "id": "vo8WhqEC71FL"
      },
      "execution_count": null,
      "outputs": []
    },
    {
      "cell_type": "code",
      "source": [
        "y_hat_train_rf=rf.predict(x_train)\n",
        "y_hat_test_rf=rf.predict(x_test)"
      ],
      "metadata": {
        "id": "DmK52qr1799t"
      },
      "execution_count": null,
      "outputs": []
    },
    {
      "cell_type": "code",
      "source": [
        "model_eval(y_test, y_hat_test_rf)"
      ],
      "metadata": {
        "id": "S7Fzcb2w8AFv"
      },
      "execution_count": null,
      "outputs": []
    },
    {
      "cell_type": "code",
      "source": [
        "model_eval(y_test, y_hat_test_rf)"
      ],
      "metadata": {
        "id": "JWfq5knl8BxD"
      },
      "execution_count": null,
      "outputs": []
    },
    {
      "cell_type": "markdown",
      "source": [
        "## AdaBoost"
      ],
      "metadata": {
        "id": "_vX5prej8IMr"
      }
    },
    {
      "cell_type": "code",
      "source": [
        "ada=AdaBoostClassifier()\n",
        "ada.fit(x_train, y_train)"
      ],
      "metadata": {
        "id": "1ti58RhI8Deb"
      },
      "execution_count": null,
      "outputs": []
    },
    {
      "cell_type": "code",
      "source": [
        "y_hat_train_ada = ada.predict(x_train)\n",
        "y_hat_test_ada = ada.predict(x_test)"
      ],
      "metadata": {
        "id": "GEXLKCAv8NVA"
      },
      "execution_count": null,
      "outputs": []
    },
    {
      "cell_type": "code",
      "source": [
        "model_eval(y_train, y_hat_train_ada)"
      ],
      "metadata": {
        "id": "JQaMCpNP8R3G"
      },
      "execution_count": null,
      "outputs": []
    },
    {
      "cell_type": "code",
      "source": [
        "model_eval(y_test, y_hat_test_ada)"
      ],
      "metadata": {
        "id": "3m4kQYEk8Ty_"
      },
      "execution_count": null,
      "outputs": []
    },
    {
      "cell_type": "markdown",
      "source": [
        "## Gradient Boost"
      ],
      "metadata": {
        "id": "oDyW4AgX8Yzm"
      }
    },
    {
      "cell_type": "code",
      "source": [
        "gb=GradientBoostingClassifier()\n",
        "gb.fit(x_train, y_train)"
      ],
      "metadata": {
        "id": "kI_P411M8V16"
      },
      "execution_count": null,
      "outputs": []
    },
    {
      "cell_type": "code",
      "source": [
        "y_hat_train_gb=gb.predict(x_train)\n",
        "y_hat_test_gb=gb.predict(x_test)"
      ],
      "metadata": {
        "id": "PhZYFUdQ8dRM"
      },
      "execution_count": null,
      "outputs": []
    },
    {
      "cell_type": "code",
      "source": [
        "model_eval(y_train, y_hat_train_gb)"
      ],
      "metadata": {
        "id": "5jTA3n4y8e_S"
      },
      "execution_count": null,
      "outputs": []
    },
    {
      "cell_type": "code",
      "source": [
        "model_eval(y_test, y_hat_test_gb)"
      ],
      "metadata": {
        "id": "p0hI20R38hC_"
      },
      "execution_count": null,
      "outputs": []
    },
    {
      "cell_type": "markdown",
      "source": [
        "\n",
        "## XG Boosting"
      ],
      "metadata": {
        "id": "QOA_fcMA8lKH"
      }
    },
    {
      "cell_type": "code",
      "source": [
        "le=LabelEncoder()\n",
        "y_train_enc=le.fit_transform(y_train)\n",
        "y_test_enc=le.fit_transform(y_test)"
      ],
      "metadata": {
        "id": "NaNfvE3T8jSN"
      },
      "execution_count": null,
      "outputs": []
    },
    {
      "cell_type": "code",
      "source": [
        "xgb=XGBClassifier()\n",
        "xgb.fit(x_train, y_train_enc)"
      ],
      "metadata": {
        "id": "LESKa5kq8rXN"
      },
      "execution_count": null,
      "outputs": []
    },
    {
      "cell_type": "code",
      "source": [
        "y_hat_train_xgb = xgb.predict(x_train)\n",
        "y_hat_test_xgb = xgb.predict(x_test)"
      ],
      "metadata": {
        "id": "zSFaOwB88uYJ"
      },
      "execution_count": null,
      "outputs": []
    },
    {
      "cell_type": "code",
      "source": [
        "model_eval(y_train_enc, y_hat_train_xgb)"
      ],
      "metadata": {
        "id": "__LUZQGq8w2s"
      },
      "execution_count": null,
      "outputs": []
    },
    {
      "cell_type": "code",
      "source": [
        "model_eval(y_test_enc, y_hat_test_xgb)"
      ],
      "metadata": {
        "id": "zPgc5XBI8yg6"
      },
      "execution_count": null,
      "outputs": []
    },
    {
      "cell_type": "markdown",
      "source": [
        "## Navie Bayes"
      ],
      "metadata": {
        "id": "rWsx_CqbFSd5"
      }
    },
    {
      "cell_type": "code",
      "source": [
        "nb = GaussianNB()\n",
        "nb.fit(x_train, y_train)"
      ],
      "metadata": {
        "id": "d8U86RLBFNug"
      },
      "execution_count": null,
      "outputs": []
    },
    {
      "cell_type": "code",
      "source": [
        "y_hat_train_nb = nb.predict(x_train)\n",
        "y_hat_test_nb = nb.predict(x_test)"
      ],
      "metadata": {
        "id": "MiwdrR7OPNTn"
      },
      "execution_count": null,
      "outputs": []
    },
    {
      "cell_type": "code",
      "source": [
        "model_eval(y_train,y_hat_train_nb)"
      ],
      "metadata": {
        "id": "WPWnD1eJHmpn"
      },
      "execution_count": null,
      "outputs": []
    },
    {
      "cell_type": "code",
      "source": [
        "model_eval(y_test,y_hat_test_nb)"
      ],
      "metadata": {
        "id": "0DkieTLhHpJH"
      },
      "execution_count": null,
      "outputs": []
    },
    {
      "cell_type": "code",
      "source": [
        "test['education'] = np.where(test['education'].isna(), test['education'].mode(dropna=True)[0], test['education'])\n",
        "test['previous_year_rating'] = np.where(test['previous_year_rating'].isna(), test['previous_year_rating'].median(skipna= True), test['previous_year_rating'])"
      ],
      "metadata": {
        "id": "EyQv0wa0HsKx"
      },
      "execution_count": null,
      "outputs": []
    },
    {
      "cell_type": "code",
      "source": [
        "test['previous_year_rating'] = test['previous_year_rating'].astype('int')"
      ],
      "metadata": {
        "id": "xiILyBYsJ5cJ"
      },
      "execution_count": null,
      "outputs": []
    },
    {
      "cell_type": "code",
      "source": [
        "test_enc = pd.get_dummies(test)"
      ],
      "metadata": {
        "id": "j3vsX5U0J7RV"
      },
      "execution_count": null,
      "outputs": []
    },
    {
      "cell_type": "code",
      "source": [
        "test_enc.drop(['employee_id'], axis = 1, inplace = True)"
      ],
      "metadata": {
        "id": "kenqhVw_J9vn"
      },
      "execution_count": null,
      "outputs": []
    },
    {
      "cell_type": "code",
      "source": [
        "test['is_promoted'] = nb.predict(test_enc)"
      ],
      "metadata": {
        "id": "yr7y6jOjJ_7z"
      },
      "execution_count": null,
      "outputs": []
    },
    {
      "cell_type": "code",
      "source": [
        "test.head()"
      ],
      "metadata": {
        "id": "3FNnz9nzKBpm"
      },
      "execution_count": null,
      "outputs": []
    },
    {
      "cell_type": "code",
      "source": [
        "accuracy_table=[['Logistic Regression',round(accuracy_score(y_test , y_hat_test_lr),2)],\n",
        "  #['Decision Tree', round(accuracy_score(y_test , y_hat_test_dtree),2)],\n",
        "  ['Random Forest' , round(accuracy_score(y_test , y_hat_test_rf),2)],\n",
        "  ['Ada Boosting' , round(accuracy_score(y_test , y_hat_test_ada),2)],\n",
        "  ['Gradient Boosting' , round(accuracy_score(y_test , y_hat_test_gb),2)],\n",
        "  ['XGBoosting' , round(accuracy_score(y_test_enc, y_hat_test_xgb),2)],\n",
        "  ['Navie Bayes' , round(accuracy_score(y_test_enc, y_hat_test_nb),2)]]\n",
        "df1 = pd.DataFrame(accuracy_table, columns = ['Model','Test_Accuracy'])\n",
        "print(df1)"
      ],
      "metadata": {
        "id": "5q-V3fy9Pkvx"
      },
      "execution_count": null,
      "outputs": []
    },
    {
      "cell_type": "markdown",
      "source": [
        "**Random Forest** is the best-performing model with a 0.96 accuracy, making it the top choice for predicting outcomes accurately."
      ],
      "metadata": {
        "id": "_m7UKhqKst1n"
      }
    }
  ]
}